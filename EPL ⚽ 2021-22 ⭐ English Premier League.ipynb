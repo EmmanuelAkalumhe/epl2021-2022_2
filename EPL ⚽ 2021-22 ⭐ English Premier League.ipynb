{
 "cells": [
  {
   "cell_type": "code",
   "execution_count": 43,
   "metadata": {},
   "outputs": [],
   "source": [
    "import pandas as pd\n",
    "import numpy as np\n",
    "import matplotlib.pyplot as plt\n",
    "import seaborn as sns"
   ]
  },
  {
   "cell_type": "code",
   "execution_count": 3,
   "metadata": {},
   "outputs": [
    {
     "data": {
      "text/html": [
       "<div>\n",
       "<style scoped>\n",
       "    .dataframe tbody tr th:only-of-type {\n",
       "        vertical-align: middle;\n",
       "    }\n",
       "\n",
       "    .dataframe tbody tr th {\n",
       "        vertical-align: top;\n",
       "    }\n",
       "\n",
       "    .dataframe thead th {\n",
       "        text-align: right;\n",
       "    }\n",
       "</style>\n",
       "<table border=\"1\" class=\"dataframe\">\n",
       "  <thead>\n",
       "    <tr style=\"text-align: right;\">\n",
       "      <th></th>\n",
       "      <th>Team</th>\n",
       "      <th>JerseyNo</th>\n",
       "      <th>Player</th>\n",
       "      <th>Position</th>\n",
       "      <th>Apearances</th>\n",
       "      <th>Substitutions</th>\n",
       "      <th>Goals</th>\n",
       "      <th>Penalties</th>\n",
       "      <th>YellowCards</th>\n",
       "      <th>RedCards</th>\n",
       "    </tr>\n",
       "  </thead>\n",
       "  <tbody>\n",
       "    <tr>\n",
       "      <th>0</th>\n",
       "      <td>Arsenal</td>\n",
       "      <td>7</td>\n",
       "      <td>Bukayo Saka</td>\n",
       "      <td>Defender/Midfielder</td>\n",
       "      <td>40</td>\n",
       "      <td>3</td>\n",
       "      <td>12</td>\n",
       "      <td>2</td>\n",
       "      <td>6.0</td>\n",
       "      <td>0.0</td>\n",
       "    </tr>\n",
       "    <tr>\n",
       "      <th>1</th>\n",
       "      <td>Arsenal</td>\n",
       "      <td>6</td>\n",
       "      <td>Gabriel</td>\n",
       "      <td>Defender</td>\n",
       "      <td>37</td>\n",
       "      <td>1</td>\n",
       "      <td>5</td>\n",
       "      <td>0</td>\n",
       "      <td>7.0</td>\n",
       "      <td>1.0</td>\n",
       "    </tr>\n",
       "    <tr>\n",
       "      <th>2</th>\n",
       "      <td>Arsenal</td>\n",
       "      <td>32</td>\n",
       "      <td>Aaron Ramsdale</td>\n",
       "      <td>Goalkeeper</td>\n",
       "      <td>37</td>\n",
       "      <td>0</td>\n",
       "      <td>0</td>\n",
       "      <td>0</td>\n",
       "      <td>1.0</td>\n",
       "      <td>0.0</td>\n",
       "    </tr>\n",
       "    <tr>\n",
       "      <th>3</th>\n",
       "      <td>Arsenal</td>\n",
       "      <td>4</td>\n",
       "      <td>Ben White</td>\n",
       "      <td>Defender</td>\n",
       "      <td>37</td>\n",
       "      <td>0</td>\n",
       "      <td>0</td>\n",
       "      <td>0</td>\n",
       "      <td>3.0</td>\n",
       "      <td>0.0</td>\n",
       "    </tr>\n",
       "    <tr>\n",
       "      <th>4</th>\n",
       "      <td>Arsenal</td>\n",
       "      <td>8</td>\n",
       "      <td>Martin Odegaard</td>\n",
       "      <td>Midfielder</td>\n",
       "      <td>36</td>\n",
       "      <td>4</td>\n",
       "      <td>7</td>\n",
       "      <td>0</td>\n",
       "      <td>4.0</td>\n",
       "      <td>0.0</td>\n",
       "    </tr>\n",
       "    <tr>\n",
       "      <th>...</th>\n",
       "      <td>...</td>\n",
       "      <td>...</td>\n",
       "      <td>...</td>\n",
       "      <td>...</td>\n",
       "      <td>...</td>\n",
       "      <td>...</td>\n",
       "      <td>...</td>\n",
       "      <td>...</td>\n",
       "      <td>...</td>\n",
       "      <td>...</td>\n",
       "    </tr>\n",
       "    <tr>\n",
       "      <th>618</th>\n",
       "      <td>Wolverhampton Wanderers</td>\n",
       "      <td>21</td>\n",
       "      <td>John Ruddy</td>\n",
       "      <td>Goalkeeper</td>\n",
       "      <td>5</td>\n",
       "      <td>1</td>\n",
       "      <td>0</td>\n",
       "      <td>0</td>\n",
       "      <td>0.0</td>\n",
       "      <td>0.0</td>\n",
       "    </tr>\n",
       "    <tr>\n",
       "      <th>619</th>\n",
       "      <td>Wolverhampton Wanderers</td>\n",
       "      <td>27</td>\n",
       "      <td>Romain Saïss</td>\n",
       "      <td>Defender/Midfielder</td>\n",
       "      <td>32</td>\n",
       "      <td>0</td>\n",
       "      <td>3</td>\n",
       "      <td>0</td>\n",
       "      <td>6.0</td>\n",
       "      <td>0.0</td>\n",
       "    </tr>\n",
       "    <tr>\n",
       "      <th>620</th>\n",
       "      <td>Wolverhampton Wanderers</td>\n",
       "      <td>24</td>\n",
       "      <td>Tote Gomes</td>\n",
       "      <td>Defender</td>\n",
       "      <td>5</td>\n",
       "      <td>0</td>\n",
       "      <td>0</td>\n",
       "      <td>0</td>\n",
       "      <td>1.0</td>\n",
       "      <td>0.0</td>\n",
       "    </tr>\n",
       "    <tr>\n",
       "      <th>621</th>\n",
       "      <td>Wolverhampton Wanderers</td>\n",
       "      <td>37</td>\n",
       "      <td>Adama Traoré</td>\n",
       "      <td>Midfielder/Forward</td>\n",
       "      <td>11</td>\n",
       "      <td>12</td>\n",
       "      <td>1</td>\n",
       "      <td>0</td>\n",
       "      <td>0.0</td>\n",
       "      <td>0.0</td>\n",
       "    </tr>\n",
       "    <tr>\n",
       "      <th>622</th>\n",
       "      <td>Wolverhampton Wanderers</td>\n",
       "      <td>11</td>\n",
       "      <td>Trincão</td>\n",
       "      <td>Midfielder/Forward</td>\n",
       "      <td>16</td>\n",
       "      <td>14</td>\n",
       "      <td>3</td>\n",
       "      <td>0</td>\n",
       "      <td>0.0</td>\n",
       "      <td>0.0</td>\n",
       "    </tr>\n",
       "  </tbody>\n",
       "</table>\n",
       "<p>623 rows × 10 columns</p>\n",
       "</div>"
      ],
      "text/plain": [
       "                        Team  JerseyNo           Player             Position  \\\n",
       "0                    Arsenal         7      Bukayo Saka  Defender/Midfielder   \n",
       "1                    Arsenal         6          Gabriel             Defender   \n",
       "2                    Arsenal        32   Aaron Ramsdale           Goalkeeper   \n",
       "3                    Arsenal         4        Ben White             Defender   \n",
       "4                    Arsenal         8  Martin Odegaard           Midfielder   \n",
       "..                       ...       ...              ...                  ...   \n",
       "618  Wolverhampton Wanderers        21       John Ruddy           Goalkeeper   \n",
       "619  Wolverhampton Wanderers        27     Romain Saïss  Defender/Midfielder   \n",
       "620  Wolverhampton Wanderers        24       Tote Gomes             Defender   \n",
       "621  Wolverhampton Wanderers        37     Adama Traoré   Midfielder/Forward   \n",
       "622  Wolverhampton Wanderers        11          Trincão   Midfielder/Forward   \n",
       "\n",
       "     Apearances  Substitutions  Goals  Penalties  YellowCards  RedCards  \n",
       "0            40              3     12          2          6.0       0.0  \n",
       "1            37              1      5          0          7.0       1.0  \n",
       "2            37              0      0          0          1.0       0.0  \n",
       "3            37              0      0          0          3.0       0.0  \n",
       "4            36              4      7          0          4.0       0.0  \n",
       "..          ...            ...    ...        ...          ...       ...  \n",
       "618           5              1      0          0          0.0       0.0  \n",
       "619          32              0      3          0          6.0       0.0  \n",
       "620           5              0      0          0          1.0       0.0  \n",
       "621          11             12      1          0          0.0       0.0  \n",
       "622          16             14      3          0          0.0       0.0  \n",
       "\n",
       "[623 rows x 10 columns]"
      ]
     },
     "execution_count": 3,
     "metadata": {},
     "output_type": "execute_result"
    }
   ],
   "source": [
    "# Read the CSV files into pandas DataFrames\n",
    "df = pd.read_csv(\"all_players_stats.csv\")\n",
    "df"
   ]
  },
  {
   "cell_type": "code",
   "execution_count": 4,
   "metadata": {
    "scrolled": true
   },
   "outputs": [
    {
     "name": "stdout",
     "output_type": "stream",
     "text": [
      "<class 'pandas.core.frame.DataFrame'>\n",
      "RangeIndex: 623 entries, 0 to 622\n",
      "Data columns (total 10 columns):\n",
      " #   Column         Non-Null Count  Dtype  \n",
      "---  ------         --------------  -----  \n",
      " 0   Team           623 non-null    object \n",
      " 1   JerseyNo       623 non-null    int64  \n",
      " 2   Player         623 non-null    object \n",
      " 3   Position       623 non-null    object \n",
      " 4   Apearances     623 non-null    int64  \n",
      " 5   Substitutions  623 non-null    int64  \n",
      " 6   Goals          623 non-null    int64  \n",
      " 7   Penalties      623 non-null    int64  \n",
      " 8   YellowCards    623 non-null    float64\n",
      " 9   RedCards       623 non-null    float64\n",
      "dtypes: float64(2), int64(5), object(3)\n",
      "memory usage: 48.8+ KB\n"
     ]
    }
   ],
   "source": [
    "df.info()"
   ]
  },
  {
   "cell_type": "code",
   "execution_count": 5,
   "metadata": {},
   "outputs": [
    {
     "data": {
      "text/plain": [
       "20"
      ]
     },
     "execution_count": 5,
     "metadata": {},
     "output_type": "execute_result"
    }
   ],
   "source": [
    "df['Team'].nunique()"
   ]
  },
  {
   "cell_type": "code",
   "execution_count": 6,
   "metadata": {},
   "outputs": [
    {
     "data": {
      "text/plain": [
       "613"
      ]
     },
     "execution_count": 6,
     "metadata": {},
     "output_type": "execute_result"
    }
   ],
   "source": [
    "df['Player'].nunique()"
   ]
  },
  {
   "cell_type": "code",
   "execution_count": 7,
   "metadata": {},
   "outputs": [
    {
     "data": {
      "text/plain": [
       "1399"
      ]
     },
     "execution_count": 7,
     "metadata": {},
     "output_type": "execute_result"
    }
   ],
   "source": [
    "df['Goals'].sum()"
   ]
  },
  {
   "cell_type": "code",
   "execution_count": 8,
   "metadata": {},
   "outputs": [
    {
     "data": {
      "image/png": "[encoded data removed]",
      "text/plain": [
       "<Figure size 432x288 with 1 Axes>"
      ]
     },
     "metadata": {
      "needs_background": "light"
     },
     "output_type": "display_data"
    }
   ],
   "source": [
    "# Calculate the total number of goals scored in the season\n",
    "total_goals_scored = df['Goals'].sum()\n",
    "\n",
    "# Create a scorecard visualization\n",
    "plt.figure(figsize=(6, 4))\n",
    "plt.barh([\"Goals Scored\"], [total_goals_scored], color='skyblue')\n",
    "plt.xlabel(\"Total Goals Scored\")\n",
    "plt.title(\"Season Goals Scored\")\n",
    "plt.xlim(0, total_goals_scored + 10)  # Adjust xlim for better visualization\n",
    "plt.gca().invert_yaxis()  # Invert y-axis for better appearance\n",
    "plt.grid(axis='x', linestyle='--', alpha=0.7)\n",
    "plt.tight_layout()\n",
    "\n",
    "# Show the plot\n",
    "plt.show()"
   ]
  },
  {
   "cell_type": "code",
   "execution_count": 9,
   "metadata": {},
   "outputs": [
    {
     "data": {
      "text/plain": [
       "105"
      ]
     },
     "execution_count": 9,
     "metadata": {},
     "output_type": "execute_result"
    }
   ],
   "source": [
    "df['Penalties'].sum()"
   ]
  },
  {
   "cell_type": "code",
   "execution_count": 10,
   "metadata": {},
   "outputs": [
    {
     "data": {
      "text/plain": [
       "1531.0"
      ]
     },
     "execution_count": 10,
     "metadata": {},
     "output_type": "execute_result"
    }
   ],
   "source": [
    "df['YellowCards'].sum()"
   ]
  },
  {
   "cell_type": "code",
   "execution_count": 11,
   "metadata": {},
   "outputs": [
    {
     "data": {
      "text/plain": [
       "54.0"
      ]
     },
     "execution_count": 11,
     "metadata": {},
     "output_type": "execute_result"
    }
   ],
   "source": [
    "df['RedCards'].sum()"
   ]
  },
  {
   "cell_type": "markdown",
   "metadata": {},
   "source": [
    "# Some of the questions we want to Answer"
   ]
  },
  {
   "cell_type": "raw",
   "metadata": {},
   "source": [
    "What position had the most goals\n",
    "Which player had the most goals\n",
    "Which player has the highest ratio of goals to appearances?\n",
    "Which Player has the most yellow cards?\n",
    "Which position has the most yellow cards?\n",
    "What position had the most red cards\n",
    "Which player had the most red cards and what position did he play.\n",
    "Are there any correlations between positions and disciplinary actions (yellow cards)?\n",
    "Which player had the most subsistute appearances\n",
    "What position had the most appearances\n",
    "Which player has the most appearances?\n",
    "Did players with multiple positions play more\n",
    "What team scored the most penalties\n",
    "Rank clubs based on their individual player performances (goals scored),"
   ]
  },
  {
   "cell_type": "markdown",
   "metadata": {},
   "source": [
    "# "
   ]
  },
  {
   "cell_type": "markdown",
   "metadata": {},
   "source": [
    "# What position had the most goals?"
   ]
  },
  {
   "cell_type": "code",
   "execution_count": 12,
   "metadata": {},
   "outputs": [
    {
     "name": "stdout",
     "output_type": "stream",
     "text": [
      "The position with the most goals is 'Midfielder/Forward' with 491 goals.\n"
     ]
    }
   ],
   "source": [
    "# Grouping by Position and summing up the goals for each position\n",
    "goals_by_position = df.groupby('Position')['Goals'].sum()\n",
    "\n",
    "# Finding the position with the maximum goals\n",
    "position_with_most_goals = goals_by_position.idxmax()\n",
    "most_goals = goals_by_position.max()\n",
    "\n",
    "print(f\"The position with the most goals is '{position_with_most_goals}' with {most_goals} goals.\")"
   ]
  },
  {
   "cell_type": "code",
   "execution_count": 42,
   "metadata": {},
   "outputs": [
    {
     "data": {
      "image/png": "[encoded data removed]",
      "text/plain": [
       "<Figure size 576x576 with 1 Axes>"
      ]
     },
     "metadata": {},
     "output_type": "display_data"
    }
   ],
   "source": [
    "# Grouping by Position and summing up the goals for each position\n",
    "goals_by_position = df.groupby('Position')['Goals'].sum()\n",
    "\n",
    "# Plotting the pie chart\n",
    "plt.figure(figsize=(8, 8))\n",
    "plt.pie(goals_by_position, labels=goals_by_position.index, autopct='%1.1f%%', startangle=140)\n",
    "plt.title('Distribution of Goals by Position')\n",
    "plt.axis('equal')  # Equal aspect ratio ensures that pie is drawn as a circle.\n",
    "plt.show()\n"
   ]
  },
  {
   "cell_type": "markdown",
   "metadata": {},
   "source": [
    "# "
   ]
  },
  {
   "cell_type": "markdown",
   "metadata": {},
   "source": [
    "# Which player had the most goals?"
   ]
  },
  {
   "cell_type": "code",
   "execution_count": 13,
   "metadata": {},
   "outputs": [
    {
     "name": "stdout",
     "output_type": "stream",
     "text": [
      "The player with the most goals is 'Mohamed Salah' who plays as a 'Midfielder/Forward' with 31 goals.\n"
     ]
    }
   ],
   "source": [
    "# Sorting the DataFrame by 'Goals' column in descending order\n",
    "sorted_df = df.sort_values(by='Goals', ascending=False)\n",
    "\n",
    "# Getting the player with the most goals (first row after sorting)\n",
    "player_with_most_goals = sorted_df.iloc[0]['Player']\n",
    "position_of_player = sorted_df.iloc[0]['Position']\n",
    "most_goals = sorted_df.iloc[0]['Goals']\n",
    "\n",
    "print(f\"The player with the most goals is '{player_with_most_goals}' who plays as a '{position_of_player}' with {most_goals} goals.\")"
   ]
  },
  {
   "cell_type": "markdown",
   "metadata": {},
   "source": [
    "# "
   ]
  },
  {
   "cell_type": "markdown",
   "metadata": {},
   "source": [
    "# Top 5 Goalscorers and their Teams"
   ]
  },
  {
   "cell_type": "code",
   "execution_count": 14,
   "metadata": {},
   "outputs": [
    {
     "name": "stdout",
     "output_type": "stream",
     "text": [
      "Top 5 highest goal scorers with their positions and appearances:\n"
     ]
    },
    {
     "data": {
      "text/html": [
       "<div>\n",
       "<style scoped>\n",
       "    .dataframe tbody tr th:only-of-type {\n",
       "        vertical-align: middle;\n",
       "    }\n",
       "\n",
       "    .dataframe tbody tr th {\n",
       "        vertical-align: top;\n",
       "    }\n",
       "\n",
       "    .dataframe thead th {\n",
       "        text-align: right;\n",
       "    }\n",
       "</style>\n",
       "<table border=\"1\" class=\"dataframe\">\n",
       "  <thead>\n",
       "    <tr style=\"text-align: right;\">\n",
       "      <th></th>\n",
       "      <th>Player</th>\n",
       "      <th>Position</th>\n",
       "      <th>Goals</th>\n",
       "      <th>Apearances</th>\n",
       "      <th>Team</th>\n",
       "    </tr>\n",
       "  </thead>\n",
       "  <tbody>\n",
       "    <tr>\n",
       "      <th>341</th>\n",
       "      <td>Mohamed Salah</td>\n",
       "      <td>Midfielder/Forward</td>\n",
       "      <td>31</td>\n",
       "      <td>44</td>\n",
       "      <td>Liverpool</td>\n",
       "    </tr>\n",
       "    <tr>\n",
       "      <th>514</th>\n",
       "      <td>Harry Kane</td>\n",
       "      <td>Forward</td>\n",
       "      <td>27</td>\n",
       "      <td>47</td>\n",
       "      <td>Tottenham Hotspur</td>\n",
       "    </tr>\n",
       "    <tr>\n",
       "      <th>407</th>\n",
       "      <td>Cristiano Ronaldo</td>\n",
       "      <td>Midfielder/Forward</td>\n",
       "      <td>24</td>\n",
       "      <td>35</td>\n",
       "      <td>Manchester United</td>\n",
       "    </tr>\n",
       "    <tr>\n",
       "      <th>511</th>\n",
       "      <td>SON Heung-min</td>\n",
       "      <td>Midfielder/Forward</td>\n",
       "      <td>24</td>\n",
       "      <td>39</td>\n",
       "      <td>Tottenham Hotspur</td>\n",
       "    </tr>\n",
       "    <tr>\n",
       "      <th>367</th>\n",
       "      <td>Riyad Mahrez</td>\n",
       "      <td>Midfielder/Forward</td>\n",
       "      <td>24</td>\n",
       "      <td>31</td>\n",
       "      <td>Manchester City</td>\n",
       "    </tr>\n",
       "  </tbody>\n",
       "</table>\n",
       "</div>"
      ],
      "text/plain": [
       "                Player            Position  Goals  Apearances  \\\n",
       "341      Mohamed Salah  Midfielder/Forward     31          44   \n",
       "514         Harry Kane             Forward     27          47   \n",
       "407  Cristiano Ronaldo  Midfielder/Forward     24          35   \n",
       "511      SON Heung-min  Midfielder/Forward     24          39   \n",
       "367       Riyad Mahrez  Midfielder/Forward     24          31   \n",
       "\n",
       "                  Team  \n",
       "341          Liverpool  \n",
       "514  Tottenham Hotspur  \n",
       "407  Manchester United  \n",
       "511  Tottenham Hotspur  \n",
       "367    Manchester City  "
      ]
     },
     "execution_count": 14,
     "metadata": {},
     "output_type": "execute_result"
    }
   ],
   "source": [
    "# Sorting the DataFrame by 'Goals' column in descending order and selecting top 5\n",
    "top_5_goalscorers = df.sort_values(by='Goals', ascending=False).head(5)\n",
    "\n",
    "print(\"Top 5 highest goal scorers with their positions and appearances:\")\n",
    "top_5_goalscorers[['Player', 'Position', 'Goals', 'Apearances', 'Team']]"
   ]
  },
  {
   "cell_type": "code",
   "execution_count": 15,
   "metadata": {},
   "outputs": [
    {
     "data": {
      "image/png": "[encoded data removed]",
      "text/plain": [
       "<Figure size 1080x432 with 1 Axes>"
      ]
     },
     "metadata": {
      "needs_background": "light"
     },
     "output_type": "display_data"
    }
   ],
   "source": [
    "# Sort the DataFrame by goals scored in descending order and select the top 5 goal scorers\n",
    "top_goal_scorers = df.sort_values(by='Goals', ascending=False).head(5)\n",
    "\n",
    "# Plotting\n",
    "plt.figure(figsize=(15, 6))\n",
    "plt.barh(top_goal_scorers['Player'] + ' (' + top_goal_scorers['Team'] + ')', top_goal_scorers['Goals'], color='skyblue')\n",
    "plt.xlabel('Goals')\n",
    "plt.ylabel('Player (Team)')\n",
    "plt.title('Top 5 Goal Scorers')\n",
    "plt.grid(axis='x', linestyle='--', alpha=0.7)\n",
    "plt.tight_layout()\n",
    "\n",
    "# Show plot\n",
    "plt.show()"
   ]
  },
  {
   "cell_type": "markdown",
   "metadata": {},
   "source": [
    "# "
   ]
  },
  {
   "cell_type": "markdown",
   "metadata": {},
   "source": [
    "# Most Important Players of Each Team based on Goals"
   ]
  },
  {
   "cell_type": "code",
   "execution_count": 16,
   "metadata": {},
   "outputs": [
    {
     "name": "stdout",
     "output_type": "stream",
     "text": [
      "Most Important Players of Each Team based on Goals Scored:\n",
      "                         Team             Player             Position  Goals\n",
      "0                     Arsenal        Bukayo Saka  Defender/Midfielder     12\n",
      "61                Aston Villa      Ollie Watkins              Forward     11\n",
      "69                  Brentford         Ivan Toney              Forward     14\n",
      "112  Brighton and Hove Albion        Neal Maupay              Forward      9\n",
      "135                   Burnley      Maxwel Cornet     Defender/Forward      9\n",
      "173                   Chelsea      Romelu Lukaku              Forward     15\n",
      "213            Crystal Palace      Wilfried Zaha   Midfielder/Forward     15\n",
      "244                   Everton        Richarlison   Midfielder/Forward     11\n",
      "273              Leeds United           Raphinha   Midfielder/Forward     11\n",
      "296            Leicester City     James Maddison           Midfielder     18\n",
      "341                 Liverpool      Mohamed Salah   Midfielder/Forward     31\n",
      "367           Manchester City       Riyad Mahrez   Midfielder/Forward     24\n",
      "407         Manchester United  Cristiano Ronaldo   Midfielder/Forward     24\n",
      "441          Newcastle United      Callum Wilson              Forward      8\n",
      "463              Norwich City        Teemu Pukki              Forward     11\n",
      "499               Southampton  James Ward-Prowse           Midfielder     11\n",
      "514         Tottenham Hotspur         Harry Kane              Forward     27\n",
      "536                   Watford    Emmanuel Dennis              Forward     10\n",
      "572           West Ham United       Jarrod Bowen   Midfielder/Forward     18\n",
      "602   Wolverhampton Wanderers     Daniel Podence   Midfielder/Forward      6\n"
     ]
    }
   ],
   "source": [
    "# Group by Team and find the player with the highest number of Goals for each team\n",
    "most_goals_scoring_players = df.loc[df.groupby('Team')['Goals'].idxmax()]\n",
    "\n",
    "# Display the result\n",
    "print(\"Most Important Players of Each Team based on Goals Scored:\")\n",
    "print(most_goals_scoring_players[['Team', 'Player', 'Position', 'Goals']])\n"
   ]
  },
  {
   "cell_type": "markdown",
   "metadata": {},
   "source": [
    "# "
   ]
  },
  {
   "cell_type": "markdown",
   "metadata": {},
   "source": [
    "# Ratio of Goals to Appearances "
   ]
  },
  {
   "cell_type": "code",
   "execution_count": 17,
   "metadata": {},
   "outputs": [
    {
     "name": "stdout",
     "output_type": "stream",
     "text": [
      "Player with the highest ratio of goals to appearances:\n",
      "Team: Aston Villa\n",
      "Player: Cameron Archer\n",
      "Total Appearances: 2\n",
      "Total Goals: 4\n",
      "Ratio of Goals to Appearances: 2.0\n"
     ]
    }
   ],
   "source": [
    "# Calculate goals to appearances ratio\n",
    "df['Goals/Apearances'] = df['Goals'] / df['Apearances']\n",
    "\n",
    "# Find the player with the highest ratio\n",
    "highest_ratio_player = df.loc[df['Goals/Apearances'].idxmax()]\n",
    "\n",
    "# Print the results\n",
    "print(\"Player with the highest ratio of goals to appearances:\")\n",
    "print(\"Team:\", highest_ratio_player['Team'])\n",
    "print(\"Player:\", highest_ratio_player['Player'])\n",
    "print(\"Total Appearances:\", highest_ratio_player['Apearances'])\n",
    "print(\"Total Goals:\", highest_ratio_player['Goals'])\n",
    "print(\"Ratio of Goals to Appearances:\", highest_ratio_player['Goals/Apearances'])\n",
    "\n"
   ]
  },
  {
   "cell_type": "markdown",
   "metadata": {},
   "source": [
    "# "
   ]
  },
  {
   "cell_type": "markdown",
   "metadata": {},
   "source": [
    "# Player with the most Yellow Cards"
   ]
  },
  {
   "cell_type": "code",
   "execution_count": 18,
   "metadata": {},
   "outputs": [
    {
     "name": "stdout",
     "output_type": "stream",
     "text": [
      "Player with the most yellow cards:\n",
      "Team: Burnley\n",
      "Player: James Tarkowski\n",
      "Position: Defender\n",
      "Number of Yellow Cards: 12.0\n"
     ]
    }
   ],
   "source": [
    "# Find the player with the most yellow cards\n",
    "most_yellow_cards_player = df.loc[df['YellowCards'].idxmax()]\n",
    "\n",
    "# Print the results\n",
    "print(\"Player with the most yellow cards:\")\n",
    "print(\"Team:\", most_yellow_cards_player['Team'])\n",
    "print(\"Player:\", most_yellow_cards_player['Player'])\n",
    "print(\"Position:\", most_yellow_cards_player['Position'])\n",
    "print(\"Number of Yellow Cards:\", most_yellow_cards_player['YellowCards'])"
   ]
  },
  {
   "cell_type": "markdown",
   "metadata": {},
   "source": [
    "# "
   ]
  },
  {
   "cell_type": "markdown",
   "metadata": {},
   "source": [
    "# Position with the most Yellow Cards"
   ]
  },
  {
   "cell_type": "code",
   "execution_count": 19,
   "metadata": {},
   "outputs": [
    {
     "name": "stdout",
     "output_type": "stream",
     "text": [
      "Position with the most yellow cards: Defender\n"
     ]
    }
   ],
   "source": [
    "# Group by position and sum up the yellow cards\n",
    "position_yellow_cards = df.groupby('Position')['YellowCards'].sum()\n",
    "\n",
    "# Find the position with the most yellow cards\n",
    "most_yellow_cards_position = position_yellow_cards.idxmax()\n",
    "\n",
    "# Print the result\n",
    "print(\"Position with the most yellow cards:\", most_yellow_cards_position)"
   ]
  },
  {
   "cell_type": "code",
   "execution_count": 44,
   "metadata": {},
   "outputs": [
    {
     "data": {
      "image/png": "[encoded data removed]",
      "text/plain": [
       "<Figure size 864x576 with 2 Axes>"
      ]
     },
     "metadata": {
      "needs_background": "light"
     },
     "output_type": "display_data"
    }
   ],
   "source": [
    "# Pivot table to get the number of yellow cards by position\n",
    "yellow_cards_by_position = df.pivot_table(index='Position', columns='Team', values='YellowCards', aggfunc='sum')\n",
    "\n",
    "# Plotting the heatmap\n",
    "plt.figure(figsize=(12, 8))\n",
    "sns.heatmap(yellow_cards_by_position, cmap='YlGnBu', annot=True, fmt=\".0f\", cbar_kws={'label': 'Number of Yellow Cards'})\n",
    "plt.title('Number of Yellow Cards Received by Players in Different Positions')\n",
    "plt.xlabel('Team')\n",
    "plt.ylabel('Position')\n",
    "plt.xticks(rotation=45)\n",
    "plt.yticks(rotation=0)\n",
    "plt.tight_layout()\n",
    "plt.show()"
   ]
  },
  {
   "cell_type": "markdown",
   "metadata": {},
   "source": [
    "# "
   ]
  },
  {
   "cell_type": "markdown",
   "metadata": {},
   "source": [
    "# The position with the most Red Cards"
   ]
  },
  {
   "cell_type": "code",
   "execution_count": 20,
   "metadata": {},
   "outputs": [
    {
     "name": "stdout",
     "output_type": "stream",
     "text": [
      "The position with the most red cards is 'Defender' with 21.0 red cards.\n"
     ]
    }
   ],
   "source": [
    "# Grouping by Position and summing up the red cards for each position\n",
    "red_cards_by_position = df.groupby('Position')['RedCards'].sum()\n",
    "\n",
    "# Finding the position with the maximum red cards\n",
    "position_with_most_red_cards = red_cards_by_position.idxmax()\n",
    "most_red_cards = red_cards_by_position.max()\n",
    "\n",
    "print(f\"The position with the most red cards is '{position_with_most_red_cards}' with {most_red_cards} red cards.\")"
   ]
  },
  {
   "cell_type": "markdown",
   "metadata": {},
   "source": [
    "# "
   ]
  },
  {
   "cell_type": "markdown",
   "metadata": {},
   "source": [
    "# The player with the most Red Cards"
   ]
  },
  {
   "cell_type": "code",
   "execution_count": 21,
   "metadata": {},
   "outputs": [
    {
     "name": "stdout",
     "output_type": "stream",
     "text": [
      "The player with the most red cards is 'Granit Xhaka' with 2.0 red cards.\n"
     ]
    }
   ],
   "source": [
    "# Sorting the DataFrame by 'RedCards' column in descending order\n",
    "sorted_df = df.sort_values(by='RedCards', ascending=False)\n",
    "\n",
    "# Getting the player with the most red cards (first row after sorting)\n",
    "player_with_most_red_cards = sorted_df.iloc[0]['Player']\n",
    "most_red_cards = sorted_df.iloc[0]['RedCards']\n",
    "\n",
    "print(f\"The player with the most red cards is '{player_with_most_red_cards}' with {most_red_cards} red cards.\")"
   ]
  },
  {
   "cell_type": "markdown",
   "metadata": {},
   "source": [
    "# "
   ]
  },
  {
   "cell_type": "markdown",
   "metadata": {},
   "source": [
    "# The Player with the most Red Cards"
   ]
  },
  {
   "cell_type": "code",
   "execution_count": 22,
   "metadata": {},
   "outputs": [
    {
     "name": "stdout",
     "output_type": "stream",
     "text": [
      "The player with the most red cards is 'Granit Xhaka' who plays as a 'Defender/Midfielder' for 'Arsenal' with 29 appearances and 2.0 red cards.\n"
     ]
    }
   ],
   "source": [
    "# Sorting the DataFrame by 'RedCards' column in descending order\n",
    "sorted_df = df.sort_values(by='RedCards', ascending=False)\n",
    "\n",
    "# Getting information of the player with the most red cards (first row after sorting)\n",
    "player_with_most_red_cards = sorted_df.iloc[0]['Player']\n",
    "position = sorted_df.iloc[0]['Position']\n",
    "appearances = sorted_df.iloc[0]['Apearances']\n",
    "club = sorted_df.iloc[0]['Team']\n",
    "most_red_cards = sorted_df.iloc[0]['RedCards']\n",
    "\n",
    "print(f\"The player with the most red cards is '{player_with_most_red_cards}' who plays as a '{position}' for '{club}' with {appearances} appearances and {most_red_cards} red cards.\")"
   ]
  },
  {
   "cell_type": "markdown",
   "metadata": {},
   "source": [
    "# "
   ]
  },
  {
   "cell_type": "markdown",
   "metadata": {},
   "source": [
    "# Correlation coefficient between Position and Yellow Cards"
   ]
  },
  {
   "cell_type": "code",
   "execution_count": 23,
   "metadata": {},
   "outputs": [
    {
     "name": "stdout",
     "output_type": "stream",
     "text": [
      "Correlation coefficient between Position and Yellow Cards: -0.09032529176063933\n"
     ]
    }
   ],
   "source": [
    "# Calculate correlation coefficient between Position and YellowCards\n",
    "correlation = df['Position'].astype('category').cat.codes.corr(df['YellowCards'])\n",
    "\n",
    "# Print the correlation coefficient\n",
    "print(\"Correlation coefficient between Position and Yellow Cards:\", correlation)"
   ]
  },
  {
   "cell_type": "raw",
   "metadata": {},
   "source": [
    "The correlation coefficient between position and yellow cards (-0.090) indicates a weak negative correlation between these two variables. Here's how best i can explain it:\n",
    "\n",
    "    Weak Negative Correlation:\n",
    "        The negative sign indicates an inverse relationship between the variables. As one variable increases, the other tends to decrease, and vice versa.\n",
    "        The correlation coefficient value of -0.090 suggests that the relationship between a player's position and the number of yellow cards they receive is very weak.\n",
    "        In this case, it implies that there is a slight tendency for players in certain positions to receive fewer yellow cards compared to others, but the relationship is not strong enough to make definitive conclusions.\n",
    "\n",
    "We should also note that correlation does not imply causation. While there may be a weak negative correlation between position and yellow cards, various other factors could influence the number of yellow cards a player receives, such as playing style, team tactics, and individual behavior on the field"
   ]
  },
  {
   "cell_type": "markdown",
   "metadata": {},
   "source": [
    "# Correlation between Yellow Cards and Appearances for Defenders"
   ]
  },
  {
   "cell_type": "code",
   "execution_count": 24,
   "metadata": {},
   "outputs": [
    {
     "name": "stdout",
     "output_type": "stream",
     "text": [
      "Correlation between Yellow Cards and Appearances for Defenders: 0.7279492394340056\n"
     ]
    }
   ],
   "source": [
    "# Filter the dataset for players with the position \"Defender\"\n",
    "defender_df = df[df['Position'] == 'Defender']\n",
    "\n",
    "# Calculate the correlation coefficient between yellow cards and other variables (if necessary)\n",
    "correlation_yellow_cards = defender_df['YellowCards'].corr(defender_df['Apearances'])\n",
    "\n",
    "# Display the correlation coefficient\n",
    "print(\"Correlation between Yellow Cards and Appearances for Defenders:\", correlation_yellow_cards)"
   ]
  },
  {
   "cell_type": "raw",
   "metadata": {},
   "source": [
    "A correlation coefficient of 0.728 between yellow cards and appearances for defenders indicates a moderately strong positive correlation between these two variables. Here's how best i can explain it:\n",
    "\n",
    "    Moderately Strong Positive Correlation:\n",
    "        The positive sign indicates a direct relationship between the variables. As one variable increases, the other tends to increase, and vice versa.\n",
    "        The correlation coefficient value of 0.728 suggests that there is a moderately strong positive relationship between the number of appearances made by defenders and the number of yellow cards they receive.\n",
    "        In this case, it implies that defenders who make more appearances tend to receive more yellow cards, and vice versa.\n",
    "\n",
    "This finding suggests that there may be certain factors or behaviors associated with playing more frequently as a defender that increase the likelihood of receiving yellow cards. However, it's essential to remember that correlation does not imply causation, and additional analysis would be needed to understand the underlying reasons for this relationship.\n"
   ]
  },
  {
   "cell_type": "markdown",
   "metadata": {},
   "source": [
    "# "
   ]
  },
  {
   "cell_type": "markdown",
   "metadata": {},
   "source": [
    "# To answer the question of whether defenders of certain clubs are prone to receiving more yellow cards than others"
   ]
  },
  {
   "cell_type": "code",
   "execution_count": 25,
   "metadata": {},
   "outputs": [
    {
     "name": "stdout",
     "output_type": "stream",
     "text": [
      "Correlation between Yellow Cards and Club Side (Defenders): 0.06498063188688517\n"
     ]
    }
   ],
   "source": [
    "from scipy.stats import pearsonr\n",
    "\n",
    "# Filter the DataFrame for players whose position is 'Defender'\n",
    "defender_df = df[df['Position'] == 'Defender']\n",
    "\n",
    "# Group by Club and sum up the yellow cards for each club's defenders\n",
    "yellow_cards_by_club = defender_df.groupby('Team')['YellowCards'].sum()\n",
    "\n",
    "# Get the list of yellow cards and club sides\n",
    "yellow_cards = yellow_cards_by_club.values\n",
    "clubs = yellow_cards_by_club.index\n",
    "\n",
    "# Calculate the correlation coefficient between yellow cards and club side\n",
    "correlation_yellow_cards_club, _ = pearsonr(yellow_cards, range(len(clubs)))\n",
    "\n",
    "# Display the result\n",
    "print(\"Correlation between Yellow Cards and Club Side (Defenders):\", correlation_yellow_cards_club)\n"
   ]
  },
  {
   "cell_type": "raw",
   "metadata": {},
   "source": [
    "The correlation coefficient between yellow cards and club side for defenders is approximately 0.065. Here's how best i can explain this:\n",
    "\n",
    "    Weak Positive Correlation:\n",
    "      The positive correlation coefficient suggests a weak positive relationship between the number of yellow cards received by defenders and the club side they play for.\n",
    "      A value close to zero indicates that there is a very weak tendency for defenders of certain clubs to receive more yellow cards compared to others.\n",
    "  \n",
    "In summary, based on this correlation coefficient, there isn't a strong indication that defenders of certain clubs are significantly more prone to receiving yellow cards compared to others."
   ]
  },
  {
   "cell_type": "markdown",
   "metadata": {},
   "source": [
    "# To determine which club sides are involved in this weak positive correlation"
   ]
  },
  {
   "cell_type": "code",
   "execution_count": 26,
   "metadata": {},
   "outputs": [
    {
     "name": "stdout",
     "output_type": "stream",
     "text": [
      "                        Club  Yellow Cards\n",
      "0                    Arsenal          20.0\n",
      "1                Aston Villa          14.0\n",
      "2                  Brentford          17.0\n",
      "3   Brighton and Hove Albion          27.0\n",
      "4                    Burnley          26.0\n",
      "5                    Chelsea          24.0\n",
      "6             Crystal Palace          16.0\n",
      "7                    Everton           6.0\n",
      "8               Leeds United          30.0\n",
      "9             Leicester City          22.0\n",
      "10                 Liverpool          18.0\n",
      "11           Manchester City          29.0\n",
      "12         Manchester United          34.0\n",
      "13          Newcastle United          26.0\n",
      "14              Norwich City          31.0\n",
      "15               Southampton          25.0\n",
      "16         Tottenham Hotspur          21.0\n",
      "17                   Watford          14.0\n",
      "18           West Ham United          19.0\n",
      "19   Wolverhampton Wanderers          14.0\n"
     ]
    }
   ],
   "source": [
    "# Display the club sides and their corresponding yellow card counts\n",
    "yellow_cards_by_club_df = pd.DataFrame({'Club': yellow_cards_by_club.index, 'Yellow Cards': yellow_cards_by_club.values})\n",
    "print(yellow_cards_by_club_df)\n"
   ]
  },
  {
   "cell_type": "markdown",
   "metadata": {},
   "source": [
    "# "
   ]
  },
  {
   "cell_type": "markdown",
   "metadata": {},
   "source": [
    "# Correlation between Positions and Red Cards"
   ]
  },
  {
   "cell_type": "code",
   "execution_count": 27,
   "metadata": {},
   "outputs": [
    {
     "name": "stdout",
     "output_type": "stream",
     "text": [
      "Correlation between positions and red cards: -0.12997132512520995\n"
     ]
    }
   ],
   "source": [
    "# Calculate the correlation coefficient\n",
    "correlation = df['Position'].astype('category').cat.codes.corr(df['RedCards'])\n",
    "\n",
    "# Print the result\n",
    "print(\"Correlation between positions and red cards:\", correlation)"
   ]
  },
  {
   "cell_type": "raw",
   "metadata": {},
   "source": [
    "The correlation coefficient between positions and red cards (-0.130) also indicates a weak negative correlation between these two variables. Here's how best i can explain it:\n",
    "\n",
    "     Weak Negative Correlation: \n",
    "          The negative sign indicates an inverse relationship between the variables. As one variable increases, the other tends to decrease, and vice versa.\n",
    "          The correlation coefficient value of -0.130 suggests that the relationship between a player's position and the number of red cards they receive is very weak.\n",
    "          In this case, it implies that there is a slight tendency for players in certain positions to receive fewer red cards compared to others, but the relationship is not strong enough to make definitive conclusions.\n",
    "  \n",
    "As with the correlation between positions and yellow cards, it's crucial to remember that correlation does not imply causation. Various factors could influence the number of red cards a player receives, and while there may be a weak negative correlation with position, it's just one aspect to consider when analyzing disciplinary actions on the field."
   ]
  },
  {
   "cell_type": "raw",
   "metadata": {},
   "source": [
    "The correlation coefficient ranges from -1 to 1, where:\n",
    "\n",
    "    1 indicates a perfect positive correlation,\n",
    "   -1 indicates a perfect negative correlation, and\n",
    "    0 indicates no correlation or weak correlation."
   ]
  },
  {
   "cell_type": "markdown",
   "metadata": {},
   "source": [
    "# "
   ]
  },
  {
   "cell_type": "markdown",
   "metadata": {},
   "source": [
    "# The player with the most Substitute Appearances"
   ]
  },
  {
   "cell_type": "code",
   "execution_count": 28,
   "metadata": {},
   "outputs": [
    {
     "name": "stdout",
     "output_type": "stream",
     "text": [
      "The player with the most substitute appearances is 'James Milner' who plays as a 'Defender/Midfielder' for 'Liverpool' with 25 substitute appearances.\n"
     ]
    }
   ],
   "source": [
    "# Sorting the DataFrame by 'Substitutions' column in descending order\n",
    "sorted_df = df.sort_values(by='Substitutions', ascending=False)\n",
    "\n",
    "# Getting information of the player with the most substitute appearances (first row after sorting)\n",
    "player_with_most_subs = sorted_df.iloc[0]['Player']\n",
    "position = sorted_df.iloc[0]['Position']\n",
    "team = sorted_df.iloc[0]['Team']\n",
    "subs_appearances = sorted_df.iloc[0]['Substitutions']\n",
    "\n",
    "print(f\"The player with the most substitute appearances is '{player_with_most_subs}' who plays as a '{position}' for '{team}' with {subs_appearances} substitute appearances.\")"
   ]
  },
  {
   "cell_type": "markdown",
   "metadata": {},
   "source": [
    "# "
   ]
  },
  {
   "cell_type": "markdown",
   "metadata": {},
   "source": [
    "# The player with the Most Appearances"
   ]
  },
  {
   "cell_type": "code",
   "execution_count": 29,
   "metadata": {},
   "outputs": [
    {
     "name": "stdout",
     "output_type": "stream",
     "text": [
      "The player with the most appearances is 'Antonio Rüdiger' who plays as a 'Defender' for 'Chelsea' with 54 appearances.\n"
     ]
    }
   ],
   "source": [
    "# Sorting the DataFrame by 'Appearances' column in descending order\n",
    "sorted_df = df.sort_values(by='Apearances', ascending=False)\n",
    "\n",
    "# Getting information of the player with the most appearances (first row after sorting)\n",
    "player_with_most_appearances = sorted_df.iloc[0]['Player']\n",
    "position = sorted_df.iloc[0]['Position']\n",
    "team = sorted_df.iloc[0]['Team']\n",
    "appearances = sorted_df.iloc[0]['Apearances']\n",
    "\n",
    "print(f\"The player with the most appearances is '{player_with_most_appearances}' who plays as a '{position}' for '{team}' with {appearances} appearances.\")"
   ]
  },
  {
   "cell_type": "markdown",
   "metadata": {},
   "source": [
    "# "
   ]
  },
  {
   "cell_type": "markdown",
   "metadata": {},
   "source": [
    "# Details of the Player with the highest number of Appearances"
   ]
  },
  {
   "cell_type": "code",
   "execution_count": 30,
   "metadata": {},
   "outputs": [
    {
     "name": "stdout",
     "output_type": "stream",
     "text": [
      "Player with the highest number of appearances:\n",
      "Team: Chelsea\n",
      "Player: Antonio Rüdiger\n",
      "Number of Appearances: 54\n",
      "Goals scored: 5\n",
      "Yellow Cards: 12.0\n",
      "Red Cards: 0.0\n"
     ]
    }
   ],
   "source": [
    "# Find the player with the highest number of appearances\n",
    "max_appearances_player = df.loc[df['Apearances'].idxmax()]\n",
    "\n",
    "# Print the results\n",
    "print(\"Player with the highest number of appearances:\")\n",
    "print(\"Team:\", max_appearances_player['Team'])\n",
    "print(\"Player:\", max_appearances_player['Player'])\n",
    "print(\"Number of Appearances:\", max_appearances_player['Apearances'])\n",
    "print(\"Goals scored:\", max_appearances_player['Goals'])\n",
    "print(\"Yellow Cards:\", max_appearances_player['YellowCards'])\n",
    "print(\"Red Cards:\", max_appearances_player['RedCards'])"
   ]
  },
  {
   "cell_type": "markdown",
   "metadata": {},
   "source": [
    "# "
   ]
  },
  {
   "cell_type": "markdown",
   "metadata": {},
   "source": [
    "# Top 5 players with the most appearances"
   ]
  },
  {
   "cell_type": "code",
   "execution_count": 31,
   "metadata": {},
   "outputs": [
    {
     "name": "stdout",
     "output_type": "stream",
     "text": [
      "Top 5 players with the most appearances:\n",
      "                Player    Position             Team  Apearances\n",
      "178    Antonio Rüdiger    Defender          Chelsea          54\n",
      "303  Kasper Schmeichel  Goalkeeper   Leicester City          53\n",
      "312     Alisson Becker  Goalkeeper        Liverpool          53\n",
      "362       João Cancelo    Defender  Manchester City          51\n",
      "344    Virgil Van Dijk    Defender        Liverpool          50\n"
     ]
    }
   ],
   "source": [
    "# Sorting the DataFrame by 'Appearances' column in descending order and selecting top 5\n",
    "top_5_appearances = df.sort_values(by='Apearances', ascending=False).head(5)\n",
    "\n",
    "# Printing the top 5 players with their positions and team names\n",
    "print(\"Top 5 players with the most appearances:\")\n",
    "print(top_5_appearances[['Player', 'Position', 'Team', 'Apearances']])"
   ]
  },
  {
   "cell_type": "code",
   "execution_count": 32,
   "metadata": {},
   "outputs": [
    {
     "data": {
      "image/png": "[encoded data removed]",
      "text/plain": [
       "<Figure size 1080x432 with 1 Axes>"
      ]
     },
     "metadata": {
      "needs_background": "light"
     },
     "output_type": "display_data"
    }
   ],
   "source": [
    "# Sort the DataFrame by appearances in descending order and select the top 5 players\n",
    "top_appearances_players = df.sort_values(by='Apearances', ascending=False).head(5)\n",
    "\n",
    "# Plotting\n",
    "plt.figure(figsize=(15, 6))\n",
    "plt.barh(top_appearances_players['Player'] + ' (' + top_appearances_players['Team'] + ')', top_appearances_players['Apearances'], color='skyblue')\n",
    "plt.xlabel('Number of Apearances')\n",
    "plt.ylabel('Player (Team)')\n",
    "plt.title('Top 5 Players with Most Appearances')\n",
    "plt.grid(axis='x', linestyle='--', alpha=0.7)\n",
    "plt.tight_layout()\n",
    "\n",
    "# Show plot\n",
    "plt.show()\n"
   ]
  },
  {
   "cell_type": "markdown",
   "metadata": {},
   "source": [
    "# "
   ]
  },
  {
   "cell_type": "markdown",
   "metadata": {},
   "source": [
    "# Most Important Players of Each Team based on Appearances"
   ]
  },
  {
   "cell_type": "code",
   "execution_count": 41,
   "metadata": {},
   "outputs": [
    {
     "name": "stdout",
     "output_type": "stream",
     "text": [
      "Most Important Players of Each Team based on Appearances:\n"
     ]
    },
    {
     "data": {
      "text/html": [
       "<div>\n",
       "<style scoped>\n",
       "    .dataframe tbody tr th:only-of-type {\n",
       "        vertical-align: middle;\n",
       "    }\n",
       "\n",
       "    .dataframe tbody tr th {\n",
       "        vertical-align: top;\n",
       "    }\n",
       "\n",
       "    .dataframe thead th {\n",
       "        text-align: right;\n",
       "    }\n",
       "</style>\n",
       "<table border=\"1\" class=\"dataframe\">\n",
       "  <thead>\n",
       "    <tr style=\"text-align: right;\">\n",
       "      <th></th>\n",
       "      <th>Team</th>\n",
       "      <th>Player</th>\n",
       "      <th>Position</th>\n",
       "      <th>Apearances</th>\n",
       "    </tr>\n",
       "  </thead>\n",
       "  <tbody>\n",
       "    <tr>\n",
       "      <th>0</th>\n",
       "      <td>Arsenal</td>\n",
       "      <td>Bukayo Saka</td>\n",
       "      <td>Defender/Midfielder</td>\n",
       "      <td>40</td>\n",
       "    </tr>\n",
       "    <tr>\n",
       "      <th>31</th>\n",
       "      <td>Aston Villa</td>\n",
       "      <td>Matty Cash</td>\n",
       "      <td>Defender/Midfielder</td>\n",
       "      <td>40</td>\n",
       "    </tr>\n",
       "    <tr>\n",
       "      <th>64</th>\n",
       "      <td>Brentford</td>\n",
       "      <td>Pontus Jansson</td>\n",
       "      <td>Defender</td>\n",
       "      <td>39</td>\n",
       "    </tr>\n",
       "    <tr>\n",
       "      <th>119</th>\n",
       "      <td>Brighton and Hove Albion</td>\n",
       "      <td>Robert Sánchez</td>\n",
       "      <td>Goalkeeper</td>\n",
       "      <td>38</td>\n",
       "    </tr>\n",
       "    <tr>\n",
       "      <th>145</th>\n",
       "      <td>Burnley</td>\n",
       "      <td>Nick Pope</td>\n",
       "      <td>Goalkeeper</td>\n",
       "      <td>39</td>\n",
       "    </tr>\n",
       "    <tr>\n",
       "      <th>178</th>\n",
       "      <td>Chelsea</td>\n",
       "      <td>Antonio Rüdiger</td>\n",
       "      <td>Defender</td>\n",
       "      <td>54</td>\n",
       "    </tr>\n",
       "    <tr>\n",
       "      <th>199</th>\n",
       "      <td>Crystal Palace</td>\n",
       "      <td>Marc Guehi</td>\n",
       "      <td>Defender</td>\n",
       "      <td>42</td>\n",
       "    </tr>\n",
       "    <tr>\n",
       "      <th>242</th>\n",
       "      <td>Everton</td>\n",
       "      <td>Jordan Pickford</td>\n",
       "      <td>Goalkeeper</td>\n",
       "      <td>37</td>\n",
       "    </tr>\n",
       "    <tr>\n",
       "      <th>271</th>\n",
       "      <td>Leeds United</td>\n",
       "      <td>Illan Meslier</td>\n",
       "      <td>Goalkeeper</td>\n",
       "      <td>42</td>\n",
       "    </tr>\n",
       "    <tr>\n",
       "      <th>303</th>\n",
       "      <td>Leicester City</td>\n",
       "      <td>Kasper Schmeichel</td>\n",
       "      <td>Goalkeeper</td>\n",
       "      <td>53</td>\n",
       "    </tr>\n",
       "    <tr>\n",
       "      <th>312</th>\n",
       "      <td>Liverpool</td>\n",
       "      <td>Alisson Becker</td>\n",
       "      <td>Goalkeeper</td>\n",
       "      <td>53</td>\n",
       "    </tr>\n",
       "    <tr>\n",
       "      <th>362</th>\n",
       "      <td>Manchester City</td>\n",
       "      <td>João Cancelo</td>\n",
       "      <td>Defender</td>\n",
       "      <td>51</td>\n",
       "    </tr>\n",
       "    <tr>\n",
       "      <th>384</th>\n",
       "      <td>Manchester United</td>\n",
       "      <td>David De Gea</td>\n",
       "      <td>Goalkeeper</td>\n",
       "      <td>46</td>\n",
       "    </tr>\n",
       "    <tr>\n",
       "      <th>427</th>\n",
       "      <td>Newcastle United</td>\n",
       "      <td>Joelinton</td>\n",
       "      <td>Midfielder/Forward</td>\n",
       "      <td>32</td>\n",
       "    </tr>\n",
       "    <tr>\n",
       "      <th>463</th>\n",
       "      <td>Norwich City</td>\n",
       "      <td>Teemu Pukki</td>\n",
       "      <td>Forward</td>\n",
       "      <td>38</td>\n",
       "    </tr>\n",
       "    <tr>\n",
       "      <th>499</th>\n",
       "      <td>Southampton</td>\n",
       "      <td>James Ward-Prowse</td>\n",
       "      <td>Midfielder</td>\n",
       "      <td>41</td>\n",
       "    </tr>\n",
       "    <tr>\n",
       "      <th>514</th>\n",
       "      <td>Tottenham Hotspur</td>\n",
       "      <td>Harry Kane</td>\n",
       "      <td>Forward</td>\n",
       "      <td>47</td>\n",
       "    </tr>\n",
       "    <tr>\n",
       "      <th>563</th>\n",
       "      <td>Watford</td>\n",
       "      <td>Moussa Sissoko</td>\n",
       "      <td>Midfielder</td>\n",
       "      <td>37</td>\n",
       "    </tr>\n",
       "    <tr>\n",
       "      <th>590</th>\n",
       "      <td>West Ham United</td>\n",
       "      <td>Declan Rice</td>\n",
       "      <td>Defender/Midfielder</td>\n",
       "      <td>48</td>\n",
       "    </tr>\n",
       "    <tr>\n",
       "      <th>600</th>\n",
       "      <td>Wolverhampton Wanderers</td>\n",
       "      <td>Conor Coady</td>\n",
       "      <td>Defender/Midfielder</td>\n",
       "      <td>41</td>\n",
       "    </tr>\n",
       "  </tbody>\n",
       "</table>\n",
       "</div>"
      ],
      "text/plain": [
       "                         Team             Player             Position  \\\n",
       "0                     Arsenal        Bukayo Saka  Defender/Midfielder   \n",
       "31                Aston Villa         Matty Cash  Defender/Midfielder   \n",
       "64                  Brentford     Pontus Jansson             Defender   \n",
       "119  Brighton and Hove Albion     Robert Sánchez           Goalkeeper   \n",
       "145                   Burnley          Nick Pope           Goalkeeper   \n",
       "178                   Chelsea    Antonio Rüdiger             Defender   \n",
       "199            Crystal Palace         Marc Guehi             Defender   \n",
       "242                   Everton    Jordan Pickford           Goalkeeper   \n",
       "271              Leeds United      Illan Meslier           Goalkeeper   \n",
       "303            Leicester City  Kasper Schmeichel           Goalkeeper   \n",
       "312                 Liverpool     Alisson Becker           Goalkeeper   \n",
       "362           Manchester City       João Cancelo             Defender   \n",
       "384         Manchester United       David De Gea           Goalkeeper   \n",
       "427          Newcastle United          Joelinton   Midfielder/Forward   \n",
       "463              Norwich City        Teemu Pukki              Forward   \n",
       "499               Southampton  James Ward-Prowse           Midfielder   \n",
       "514         Tottenham Hotspur         Harry Kane              Forward   \n",
       "563                   Watford     Moussa Sissoko           Midfielder   \n",
       "590           West Ham United        Declan Rice  Defender/Midfielder   \n",
       "600   Wolverhampton Wanderers        Conor Coady  Defender/Midfielder   \n",
       "\n",
       "     Apearances  \n",
       "0            40  \n",
       "31           40  \n",
       "64           39  \n",
       "119          38  \n",
       "145          39  \n",
       "178          54  \n",
       "199          42  \n",
       "242          37  \n",
       "271          42  \n",
       "303          53  \n",
       "312          53  \n",
       "362          51  \n",
       "384          46  \n",
       "427          32  \n",
       "463          38  \n",
       "499          41  \n",
       "514          47  \n",
       "563          37  \n",
       "590          48  \n",
       "600          41  "
      ]
     },
     "execution_count": 41,
     "metadata": {},
     "output_type": "execute_result"
    }
   ],
   "source": [
    "# Group by Team and find the player with the highest number of appearances for each team\n",
    "most_appearances_players = df.loc[df.groupby('Team')['Apearances'].idxmax()]\n",
    "\n",
    "# Display the result\n",
    "print(\"Most Important Players of Each Team based on Appearances:\")\n",
    "most_appearances_players[['Team', 'Player', 'Position', 'Apearances']]"
   ]
  },
  {
   "cell_type": "markdown",
   "metadata": {},
   "source": [
    "# "
   ]
  },
  {
   "cell_type": "markdown",
   "metadata": {},
   "source": [
    "# Average appearances for players with Multiple/Single Positions"
   ]
  },
  {
   "cell_type": "code",
   "execution_count": 34,
   "metadata": {},
   "outputs": [
    {
     "name": "stdout",
     "output_type": "stream",
     "text": [
      "Average appearances for players with multiple positions: 19.105555555555554\n",
      "Average appearances for players with single positions: 15.950338600451467\n"
     ]
    }
   ],
   "source": [
    "# Splitting positions for players with multiple positions and calculating their average appearances\n",
    "multi_position_players = df[df['Position'].str.contains('/')]\n",
    "average_appearances_multi_position = multi_position_players['Apearances'].mean()\n",
    "\n",
    "# Calculating average appearances for players with single positions\n",
    "single_position_players = df[~df['Position'].str.contains('/')]\n",
    "average_appearances_single_position = single_position_players['Apearances'].mean()\n",
    "\n",
    "# Printing the results\n",
    "print(f\"Average appearances for players with multiple positions: {average_appearances_multi_position}\")\n",
    "print(f\"Average appearances for players with single positions: {average_appearances_single_position}\")"
   ]
  },
  {
   "cell_type": "raw",
   "metadata": {},
   "source": [
    "The averages provided represent the average number of appearances for players based on whether they have multiple positions or single positions.\n",
    "\n",
    "    Average Appearances for Players with Multiple Positions (19.11):\n",
    "        Players with multiple positions have an average of approximately 19.11 appearances.\n",
    "        This suggests that players who are versatile and can play in multiple positions tend to appear more frequently in matches compared to those who specialize in a single position.\n",
    "\n",
    "    Average Appearances for Players with Single Positions (15.95):\n",
    "        Players with single positions have an average of approximately 15.95 appearances.\n",
    "        This implies that players who specialize in a single position tend to have slightly fewer appearances on average compared to those who have the flexibility to play in multiple positions.\n",
    "\n",
    "So Yes, the comparison of the average appearances for players with multiple positions and players with single positions suggests that players with multiple positions tend to have more appearances. If the average number of appearances for players with multiple positions is higher than that of players with single positions, it implies that players with multiple positions, on average, played more frequently"
   ]
  },
  {
   "cell_type": "markdown",
   "metadata": {},
   "source": [
    "# "
   ]
  },
  {
   "cell_type": "markdown",
   "metadata": {},
   "source": [
    "# The team with the Most Penalties"
   ]
  },
  {
   "cell_type": "code",
   "execution_count": 35,
   "metadata": {},
   "outputs": [
    {
     "name": "stdout",
     "output_type": "stream",
     "text": [
      "The team with the most penalties is 'Chelsea' with 13 penalties.\n"
     ]
    }
   ],
   "source": [
    "# Grouping by 'Team' and summing up the penalties for each team\n",
    "penalties_by_team = df.groupby('Team')['Penalties'].sum()\n",
    "\n",
    "# Finding the team with the maximum penalties\n",
    "team_with_most_penalties = penalties_by_team.idxmax()\n",
    "most_penalties = penalties_by_team.max()\n",
    "\n",
    "print(f\"The team with the most penalties is '{team_with_most_penalties}' with {most_penalties} penalties.\")"
   ]
  },
  {
   "cell_type": "markdown",
   "metadata": {},
   "source": [
    "# "
   ]
  },
  {
   "cell_type": "markdown",
   "metadata": {},
   "source": [
    "# Top 5 teams with the most penalties"
   ]
  },
  {
   "cell_type": "code",
   "execution_count": 36,
   "metadata": {},
   "outputs": [
    {
     "name": "stdout",
     "output_type": "stream",
     "text": [
      "Top 5 teams with the most penalties:\n",
      "Team\n",
      "Chelsea            13\n",
      "Manchester City    11\n",
      "Brentford           9\n",
      "Liverpool           9\n",
      "Arsenal             6\n",
      "Name: Penalties, dtype: int64\n"
     ]
    }
   ],
   "source": [
    "# Grouping by 'Team' and summing up the penalties for each team\n",
    "penalties_by_team = df.groupby('Team')['Penalties'].sum()\n",
    "\n",
    "# Sorting the teams by total penalties in descending order and selecting top 5\n",
    "top_5_teams_penalties = penalties_by_team.sort_values(ascending=False).head(5)\n",
    "\n",
    "print(\"Top 5 teams with the most penalties:\")\n",
    "print(top_5_teams_penalties)"
   ]
  },
  {
   "cell_type": "markdown",
   "metadata": {},
   "source": [
    "# "
   ]
  },
  {
   "cell_type": "markdown",
   "metadata": {},
   "source": [
    "# Ranked clubs based on Individual Player Performances (Goals):"
   ]
  },
  {
   "cell_type": "code",
   "execution_count": 37,
   "metadata": {},
   "outputs": [
    {
     "name": "stdout",
     "output_type": "stream",
     "text": [
      "Ranked clubs based on individual player performances (goals):\n",
      "1. Manchester City: 146 goals\n",
      "2. Liverpool: 145 goals\n",
      "3. Chelsea: 119 goals\n",
      "4. Leicester City: 99 goals\n",
      "5. Tottenham Hotspur: 85 goals\n",
      "6. West Ham United: 83 goals\n",
      "7. Arsenal: 76 goals\n",
      "8. Manchester United: 70 goals\n",
      "9. Brentford: 62 goals\n",
      "10. Southampton: 60 goals\n",
      "11. Crystal Palace: 60 goals\n",
      "12. Aston Villa: 57 goals\n",
      "13. Everton: 55 goals\n",
      "14. Brighton and Hove Albion: 49 goals\n",
      "15. Leeds United: 45 goals\n",
      "16. Wolverhampton Wanderers: 44 goals\n",
      "17. Newcastle United: 41 goals\n",
      "18. Burnley: 37 goals\n",
      "19. Watford: 36 goals\n",
      "20. Norwich City: 30 goals\n"
     ]
    }
   ],
   "source": [
    "# Group by team and sum up the goals\n",
    "team_goals = df.groupby('Team')['Goals'].sum()\n",
    "\n",
    "# Rank the teams based on total goals\n",
    "ranked_teams = team_goals.sort_values(ascending=False)\n",
    "\n",
    "# Print the ranked teams\n",
    "print(\"Ranked clubs based on individual player performances (goals):\")\n",
    "for rank, (team, goals) in enumerate(ranked_teams.iteritems(), start=1):\n",
    "    print(f\"{rank}. {team}: {goals} goals\")"
   ]
  },
  {
   "cell_type": "markdown",
   "metadata": {},
   "source": [
    "# "
   ]
  },
  {
   "cell_type": "markdown",
   "metadata": {},
   "source": [
    "# Ranked Clubs based on Highest Goal Scorers"
   ]
  },
  {
   "cell_type": "code",
   "execution_count": 38,
   "metadata": {},
   "outputs": [
    {
     "name": "stdout",
     "output_type": "stream",
     "text": [
      "Ranked clubs based on highest goal scorers:\n"
     ]
    },
    {
     "data": {
      "text/html": [
       "<div>\n",
       "<style scoped>\n",
       "    .dataframe tbody tr th:only-of-type {\n",
       "        vertical-align: middle;\n",
       "    }\n",
       "\n",
       "    .dataframe tbody tr th {\n",
       "        vertical-align: top;\n",
       "    }\n",
       "\n",
       "    .dataframe thead th {\n",
       "        text-align: right;\n",
       "    }\n",
       "</style>\n",
       "<table border=\"1\" class=\"dataframe\">\n",
       "  <thead>\n",
       "    <tr style=\"text-align: right;\">\n",
       "      <th></th>\n",
       "      <th>Team</th>\n",
       "      <th>Player</th>\n",
       "      <th>Goals</th>\n",
       "      <th>Position</th>\n",
       "      <th>Apearances</th>\n",
       "    </tr>\n",
       "    <tr>\n",
       "      <th>Team</th>\n",
       "      <th></th>\n",
       "      <th></th>\n",
       "      <th></th>\n",
       "      <th></th>\n",
       "      <th></th>\n",
       "    </tr>\n",
       "  </thead>\n",
       "  <tbody>\n",
       "    <tr>\n",
       "      <th>Liverpool</th>\n",
       "      <td>Liverpool</td>\n",
       "      <td>Mohamed Salah</td>\n",
       "      <td>31</td>\n",
       "      <td>Midfielder/Forward</td>\n",
       "      <td>44</td>\n",
       "    </tr>\n",
       "    <tr>\n",
       "      <th>Tottenham Hotspur</th>\n",
       "      <td>Tottenham Hotspur</td>\n",
       "      <td>Harry Kane</td>\n",
       "      <td>27</td>\n",
       "      <td>Forward</td>\n",
       "      <td>47</td>\n",
       "    </tr>\n",
       "    <tr>\n",
       "      <th>Manchester United</th>\n",
       "      <td>Manchester United</td>\n",
       "      <td>Cristiano Ronaldo</td>\n",
       "      <td>24</td>\n",
       "      <td>Midfielder/Forward</td>\n",
       "      <td>35</td>\n",
       "    </tr>\n",
       "    <tr>\n",
       "      <th>Manchester City</th>\n",
       "      <td>Manchester City</td>\n",
       "      <td>Riyad Mahrez</td>\n",
       "      <td>24</td>\n",
       "      <td>Midfielder/Forward</td>\n",
       "      <td>31</td>\n",
       "    </tr>\n",
       "    <tr>\n",
       "      <th>Leicester City</th>\n",
       "      <td>Leicester City</td>\n",
       "      <td>James Maddison</td>\n",
       "      <td>18</td>\n",
       "      <td>Midfielder</td>\n",
       "      <td>40</td>\n",
       "    </tr>\n",
       "    <tr>\n",
       "      <th>West Ham United</th>\n",
       "      <td>West Ham United</td>\n",
       "      <td>Jarrod Bowen</td>\n",
       "      <td>18</td>\n",
       "      <td>Midfielder/Forward</td>\n",
       "      <td>45</td>\n",
       "    </tr>\n",
       "    <tr>\n",
       "      <th>Chelsea</th>\n",
       "      <td>Chelsea</td>\n",
       "      <td>Romelu Lukaku</td>\n",
       "      <td>15</td>\n",
       "      <td>Forward</td>\n",
       "      <td>29</td>\n",
       "    </tr>\n",
       "    <tr>\n",
       "      <th>Crystal Palace</th>\n",
       "      <td>Crystal Palace</td>\n",
       "      <td>Wilfried Zaha</td>\n",
       "      <td>15</td>\n",
       "      <td>Midfielder/Forward</td>\n",
       "      <td>35</td>\n",
       "    </tr>\n",
       "    <tr>\n",
       "      <th>Brentford</th>\n",
       "      <td>Brentford</td>\n",
       "      <td>Ivan Toney</td>\n",
       "      <td>14</td>\n",
       "      <td>Forward</td>\n",
       "      <td>34</td>\n",
       "    </tr>\n",
       "    <tr>\n",
       "      <th>Arsenal</th>\n",
       "      <td>Arsenal</td>\n",
       "      <td>Bukayo Saka</td>\n",
       "      <td>12</td>\n",
       "      <td>Defender/Midfielder</td>\n",
       "      <td>40</td>\n",
       "    </tr>\n",
       "    <tr>\n",
       "      <th>Aston Villa</th>\n",
       "      <td>Aston Villa</td>\n",
       "      <td>Ollie Watkins</td>\n",
       "      <td>11</td>\n",
       "      <td>Forward</td>\n",
       "      <td>34</td>\n",
       "    </tr>\n",
       "    <tr>\n",
       "      <th>Leeds United</th>\n",
       "      <td>Leeds United</td>\n",
       "      <td>Raphinha</td>\n",
       "      <td>11</td>\n",
       "      <td>Midfielder/Forward</td>\n",
       "      <td>34</td>\n",
       "    </tr>\n",
       "    <tr>\n",
       "      <th>Everton</th>\n",
       "      <td>Everton</td>\n",
       "      <td>Richarlison</td>\n",
       "      <td>11</td>\n",
       "      <td>Midfielder/Forward</td>\n",
       "      <td>30</td>\n",
       "    </tr>\n",
       "    <tr>\n",
       "      <th>Norwich City</th>\n",
       "      <td>Norwich City</td>\n",
       "      <td>Teemu Pukki</td>\n",
       "      <td>11</td>\n",
       "      <td>Forward</td>\n",
       "      <td>38</td>\n",
       "    </tr>\n",
       "    <tr>\n",
       "      <th>Southampton</th>\n",
       "      <td>Southampton</td>\n",
       "      <td>James Ward-Prowse</td>\n",
       "      <td>11</td>\n",
       "      <td>Midfielder</td>\n",
       "      <td>41</td>\n",
       "    </tr>\n",
       "    <tr>\n",
       "      <th>Watford</th>\n",
       "      <td>Watford</td>\n",
       "      <td>Emmanuel Dennis</td>\n",
       "      <td>10</td>\n",
       "      <td>Forward</td>\n",
       "      <td>30</td>\n",
       "    </tr>\n",
       "    <tr>\n",
       "      <th>Burnley</th>\n",
       "      <td>Burnley</td>\n",
       "      <td>Maxwel Cornet</td>\n",
       "      <td>9</td>\n",
       "      <td>Defender/Forward</td>\n",
       "      <td>22</td>\n",
       "    </tr>\n",
       "    <tr>\n",
       "      <th>Brighton and Hove Albion</th>\n",
       "      <td>Brighton and Hove Albion</td>\n",
       "      <td>Neal Maupay</td>\n",
       "      <td>9</td>\n",
       "      <td>Forward</td>\n",
       "      <td>27</td>\n",
       "    </tr>\n",
       "    <tr>\n",
       "      <th>Newcastle United</th>\n",
       "      <td>Newcastle United</td>\n",
       "      <td>Callum Wilson</td>\n",
       "      <td>8</td>\n",
       "      <td>Forward</td>\n",
       "      <td>16</td>\n",
       "    </tr>\n",
       "    <tr>\n",
       "      <th>Wolverhampton Wanderers</th>\n",
       "      <td>Wolverhampton Wanderers</td>\n",
       "      <td>Daniel Podence</td>\n",
       "      <td>6</td>\n",
       "      <td>Midfielder/Forward</td>\n",
       "      <td>19</td>\n",
       "    </tr>\n",
       "  </tbody>\n",
       "</table>\n",
       "</div>"
      ],
      "text/plain": [
       "                                              Team             Player  Goals  \\\n",
       "Team                                                                           \n",
       "Liverpool                                Liverpool      Mohamed Salah     31   \n",
       "Tottenham Hotspur                Tottenham Hotspur         Harry Kane     27   \n",
       "Manchester United                Manchester United  Cristiano Ronaldo     24   \n",
       "Manchester City                    Manchester City       Riyad Mahrez     24   \n",
       "Leicester City                      Leicester City     James Maddison     18   \n",
       "West Ham United                    West Ham United       Jarrod Bowen     18   \n",
       "Chelsea                                    Chelsea      Romelu Lukaku     15   \n",
       "Crystal Palace                      Crystal Palace      Wilfried Zaha     15   \n",
       "Brentford                                Brentford         Ivan Toney     14   \n",
       "Arsenal                                    Arsenal        Bukayo Saka     12   \n",
       "Aston Villa                            Aston Villa      Ollie Watkins     11   \n",
       "Leeds United                          Leeds United           Raphinha     11   \n",
       "Everton                                    Everton        Richarlison     11   \n",
       "Norwich City                          Norwich City        Teemu Pukki     11   \n",
       "Southampton                            Southampton  James Ward-Prowse     11   \n",
       "Watford                                    Watford    Emmanuel Dennis     10   \n",
       "Burnley                                    Burnley      Maxwel Cornet      9   \n",
       "Brighton and Hove Albion  Brighton and Hove Albion        Neal Maupay      9   \n",
       "Newcastle United                  Newcastle United      Callum Wilson      8   \n",
       "Wolverhampton Wanderers    Wolverhampton Wanderers     Daniel Podence      6   \n",
       "\n",
       "                                     Position  Apearances  \n",
       "Team                                                       \n",
       "Liverpool                  Midfielder/Forward          44  \n",
       "Tottenham Hotspur                     Forward          47  \n",
       "Manchester United          Midfielder/Forward          35  \n",
       "Manchester City            Midfielder/Forward          31  \n",
       "Leicester City                     Midfielder          40  \n",
       "West Ham United            Midfielder/Forward          45  \n",
       "Chelsea                               Forward          29  \n",
       "Crystal Palace             Midfielder/Forward          35  \n",
       "Brentford                             Forward          34  \n",
       "Arsenal                   Defender/Midfielder          40  \n",
       "Aston Villa                           Forward          34  \n",
       "Leeds United               Midfielder/Forward          34  \n",
       "Everton                    Midfielder/Forward          30  \n",
       "Norwich City                          Forward          38  \n",
       "Southampton                        Midfielder          41  \n",
       "Watford                               Forward          30  \n",
       "Burnley                      Defender/Forward          22  \n",
       "Brighton and Hove Albion              Forward          27  \n",
       "Newcastle United                      Forward          16  \n",
       "Wolverhampton Wanderers    Midfielder/Forward          19  "
      ]
     },
     "execution_count": 38,
     "metadata": {},
     "output_type": "execute_result"
    }
   ],
   "source": [
    "# Group by 'Team' and find the player with the highest number of goals\n",
    "highest_goal_scorers = df.groupby('Team').apply(lambda x: x.loc[x['Goals'].idxmax()])\n",
    "\n",
    "# Sort teams based on the total goals scored by the highest goal scorers\n",
    "ranked_teams = highest_goal_scorers.sort_values(by='Goals', ascending=False)\n",
    "\n",
    "# Print the ranked list with player's name, total goals, position, and total appearances\n",
    "print(\"Ranked clubs based on highest goal scorers:\")\n",
    "ranked_teams[['Team', 'Player', 'Goals', 'Position', 'Apearances']]"
   ]
  },
  {
   "cell_type": "markdown",
   "metadata": {},
   "source": [
    "# "
   ]
  },
  {
   "cell_type": "markdown",
   "metadata": {},
   "source": [
    "# Correlation between Goals and Player's Position and Number of Appearances"
   ]
  },
  {
   "cell_type": "code",
   "execution_count": 40,
   "metadata": {},
   "outputs": [
    {
     "name": "stdout",
     "output_type": "stream",
     "text": [
      "Correlation between Goals and Player's Position: 0.26584305086445986\n",
      "Correlation between Goals and Number of Appearances: 0.4855702105300893\n"
     ]
    }
   ],
   "source": [
    "# Calculate correlation between goals scored and player's position\n",
    "correlation_position = df['Goals'].corr(df['Position'].astype('category').cat.codes)\n",
    "\n",
    "# Calculate correlation between goals scored and number of appearances\n",
    "correlation_appearances = df['Goals'].corr(df['Apearances'])\n",
    "\n",
    "# Display the correlations\n",
    "print(\"Correlation between Goals and Player's Position:\", correlation_position)\n",
    "print(\"Correlation between Goals and Number of Appearances:\", correlation_appearances)\n",
    "\n"
   ]
  },
  {
   "cell_type": "markdown",
   "metadata": {},
   "source": [
    "The correlation coefficient ranges from -1 to 1. A positive correlation suggests a positive relationship between variables (as one variable increases, the other also tends to increase), while a negative correlation suggests an inverse relationship (as one variable increases, the other tends to decrease). A correlation close to 0 suggests no linear relationship"
   ]
  },
  {
   "cell_type": "raw",
   "metadata": {},
   "source": [
    "    (1). Correlation between Goals and Player's Position (0.266):\n",
    "        The correlation coefficient between goals scored and player's position is positive, indicating a weak positive relationship.\n",
    "        This suggests that there is some tendency for certain positions to score more goals than others, but the relationship is not very strong.\n",
    "        A coefficient of 0.266 suggests that there is a mild positive correlation, meaning that as the categorical variable (position) changes, there is a slight tendency for the number of goals scored to also change, but it's not very pronounced.\n",
    "\n",
    "    (2). Correlation between Goals and Number of Appearances (0.486):\n",
    "        The correlation coefficient between goals scored and number of appearances is positive, indicating a moderate positive relationship.\n",
    "        This suggests that there is a stronger relationship between the number of appearances made by a player and the number of goals they score.\n",
    "        A coefficient of 0.486 suggests that there is a moderate positive correlation, meaning that as the number of appearances increases, there is a tendency for the number of goals scored to also increase, and vice versa.\n",
    "\n",
    "Overall, these correlation coefficients indicate that the number of appearances made by a player has a stronger positive relationship with the number of goals scored compared to the player's position. However, it's important to note that correlation does not imply causation, and other factors may also influence goal-scoring performance."
   ]
  },
  {
   "cell_type": "code",
   "execution_count": 49,
   "metadata": {},
   "outputs": [
    {
     "data": {
      "text/html": [
       "<div>\n",
       "<style scoped>\n",
       "    .dataframe tbody tr th:only-of-type {\n",
       "        vertical-align: middle;\n",
       "    }\n",
       "\n",
       "    .dataframe tbody tr th {\n",
       "        vertical-align: top;\n",
       "    }\n",
       "\n",
       "    .dataframe thead th {\n",
       "        text-align: right;\n",
       "    }\n",
       "</style>\n",
       "<table border=\"1\" class=\"dataframe\">\n",
       "  <thead>\n",
       "    <tr style=\"text-align: right;\">\n",
       "      <th></th>\n",
       "      <th>Team</th>\n",
       "      <th>JerseyNo</th>\n",
       "      <th>Player</th>\n",
       "      <th>Position</th>\n",
       "      <th>Apearances</th>\n",
       "      <th>Substitutions</th>\n",
       "      <th>Goals</th>\n",
       "      <th>Penalties</th>\n",
       "      <th>YellowCards</th>\n",
       "      <th>RedCards</th>\n",
       "      <th>Goals/Apearances</th>\n",
       "    </tr>\n",
       "  </thead>\n",
       "  <tbody>\n",
       "    <tr>\n",
       "      <th>0</th>\n",
       "      <td>Arsenal</td>\n",
       "      <td>7</td>\n",
       "      <td>Bukayo Saka</td>\n",
       "      <td>Defender/Midfielder</td>\n",
       "      <td>40</td>\n",
       "      <td>3</td>\n",
       "      <td>12</td>\n",
       "      <td>2</td>\n",
       "      <td>6.0</td>\n",
       "      <td>0.0</td>\n",
       "      <td>0.300000</td>\n",
       "    </tr>\n",
       "    <tr>\n",
       "      <th>1</th>\n",
       "      <td>Arsenal</td>\n",
       "      <td>6</td>\n",
       "      <td>Gabriel</td>\n",
       "      <td>Defender</td>\n",
       "      <td>37</td>\n",
       "      <td>1</td>\n",
       "      <td>5</td>\n",
       "      <td>0</td>\n",
       "      <td>7.0</td>\n",
       "      <td>1.0</td>\n",
       "      <td>0.135135</td>\n",
       "    </tr>\n",
       "    <tr>\n",
       "      <th>2</th>\n",
       "      <td>Arsenal</td>\n",
       "      <td>32</td>\n",
       "      <td>Aaron Ramsdale</td>\n",
       "      <td>Goalkeeper</td>\n",
       "      <td>37</td>\n",
       "      <td>0</td>\n",
       "      <td>0</td>\n",
       "      <td>0</td>\n",
       "      <td>1.0</td>\n",
       "      <td>0.0</td>\n",
       "      <td>0.000000</td>\n",
       "    </tr>\n",
       "    <tr>\n",
       "      <th>3</th>\n",
       "      <td>Arsenal</td>\n",
       "      <td>4</td>\n",
       "      <td>Ben White</td>\n",
       "      <td>Defender</td>\n",
       "      <td>37</td>\n",
       "      <td>0</td>\n",
       "      <td>0</td>\n",
       "      <td>0</td>\n",
       "      <td>3.0</td>\n",
       "      <td>0.0</td>\n",
       "      <td>0.000000</td>\n",
       "    </tr>\n",
       "    <tr>\n",
       "      <th>4</th>\n",
       "      <td>Arsenal</td>\n",
       "      <td>8</td>\n",
       "      <td>Martin Odegaard</td>\n",
       "      <td>Midfielder</td>\n",
       "      <td>36</td>\n",
       "      <td>4</td>\n",
       "      <td>7</td>\n",
       "      <td>0</td>\n",
       "      <td>4.0</td>\n",
       "      <td>0.0</td>\n",
       "      <td>0.194444</td>\n",
       "    </tr>\n",
       "    <tr>\n",
       "      <th>...</th>\n",
       "      <td>...</td>\n",
       "      <td>...</td>\n",
       "      <td>...</td>\n",
       "      <td>...</td>\n",
       "      <td>...</td>\n",
       "      <td>...</td>\n",
       "      <td>...</td>\n",
       "      <td>...</td>\n",
       "      <td>...</td>\n",
       "      <td>...</td>\n",
       "      <td>...</td>\n",
       "    </tr>\n",
       "    <tr>\n",
       "      <th>618</th>\n",
       "      <td>Wolverhampton Wanderers</td>\n",
       "      <td>21</td>\n",
       "      <td>John Ruddy</td>\n",
       "      <td>Goalkeeper</td>\n",
       "      <td>5</td>\n",
       "      <td>1</td>\n",
       "      <td>0</td>\n",
       "      <td>0</td>\n",
       "      <td>0.0</td>\n",
       "      <td>0.0</td>\n",
       "      <td>0.000000</td>\n",
       "    </tr>\n",
       "    <tr>\n",
       "      <th>619</th>\n",
       "      <td>Wolverhampton Wanderers</td>\n",
       "      <td>27</td>\n",
       "      <td>Romain Saïss</td>\n",
       "      <td>Defender/Midfielder</td>\n",
       "      <td>32</td>\n",
       "      <td>0</td>\n",
       "      <td>3</td>\n",
       "      <td>0</td>\n",
       "      <td>6.0</td>\n",
       "      <td>0.0</td>\n",
       "      <td>0.093750</td>\n",
       "    </tr>\n",
       "    <tr>\n",
       "      <th>620</th>\n",
       "      <td>Wolverhampton Wanderers</td>\n",
       "      <td>24</td>\n",
       "      <td>Tote Gomes</td>\n",
       "      <td>Defender</td>\n",
       "      <td>5</td>\n",
       "      <td>0</td>\n",
       "      <td>0</td>\n",
       "      <td>0</td>\n",
       "      <td>1.0</td>\n",
       "      <td>0.0</td>\n",
       "      <td>0.000000</td>\n",
       "    </tr>\n",
       "    <tr>\n",
       "      <th>621</th>\n",
       "      <td>Wolverhampton Wanderers</td>\n",
       "      <td>37</td>\n",
       "      <td>Adama Traoré</td>\n",
       "      <td>Midfielder/Forward</td>\n",
       "      <td>11</td>\n",
       "      <td>12</td>\n",
       "      <td>1</td>\n",
       "      <td>0</td>\n",
       "      <td>0.0</td>\n",
       "      <td>0.0</td>\n",
       "      <td>0.090909</td>\n",
       "    </tr>\n",
       "    <tr>\n",
       "      <th>622</th>\n",
       "      <td>Wolverhampton Wanderers</td>\n",
       "      <td>11</td>\n",
       "      <td>Trincão</td>\n",
       "      <td>Midfielder/Forward</td>\n",
       "      <td>16</td>\n",
       "      <td>14</td>\n",
       "      <td>3</td>\n",
       "      <td>0</td>\n",
       "      <td>0.0</td>\n",
       "      <td>0.0</td>\n",
       "      <td>0.187500</td>\n",
       "    </tr>\n",
       "  </tbody>\n",
       "</table>\n",
       "<p>623 rows × 11 columns</p>\n",
       "</div>"
      ],
      "text/plain": [
       "                        Team  JerseyNo           Player             Position  \\\n",
       "0                    Arsenal         7      Bukayo Saka  Defender/Midfielder   \n",
       "1                    Arsenal         6          Gabriel             Defender   \n",
       "2                    Arsenal        32   Aaron Ramsdale           Goalkeeper   \n",
       "3                    Arsenal         4        Ben White             Defender   \n",
       "4                    Arsenal         8  Martin Odegaard           Midfielder   \n",
       "..                       ...       ...              ...                  ...   \n",
       "618  Wolverhampton Wanderers        21       John Ruddy           Goalkeeper   \n",
       "619  Wolverhampton Wanderers        27     Romain Saïss  Defender/Midfielder   \n",
       "620  Wolverhampton Wanderers        24       Tote Gomes             Defender   \n",
       "621  Wolverhampton Wanderers        37     Adama Traoré   Midfielder/Forward   \n",
       "622  Wolverhampton Wanderers        11          Trincão   Midfielder/Forward   \n",
       "\n",
       "     Apearances  Substitutions  Goals  Penalties  YellowCards  RedCards  \\\n",
       "0            40              3     12          2          6.0       0.0   \n",
       "1            37              1      5          0          7.0       1.0   \n",
       "2            37              0      0          0          1.0       0.0   \n",
       "3            37              0      0          0          3.0       0.0   \n",
       "4            36              4      7          0          4.0       0.0   \n",
       "..          ...            ...    ...        ...          ...       ...   \n",
       "618           5              1      0          0          0.0       0.0   \n",
       "619          32              0      3          0          6.0       0.0   \n",
       "620           5              0      0          0          1.0       0.0   \n",
       "621          11             12      1          0          0.0       0.0   \n",
       "622          16             14      3          0          0.0       0.0   \n",
       "\n",
       "     Goals/Apearances  \n",
       "0            0.300000  \n",
       "1            0.135135  \n",
       "2            0.000000  \n",
       "3            0.000000  \n",
       "4            0.194444  \n",
       "..                ...  \n",
       "618          0.000000  \n",
       "619          0.093750  \n",
       "620          0.000000  \n",
       "621          0.090909  \n",
       "622          0.187500  \n",
       "\n",
       "[623 rows x 11 columns]"
      ]
     },
     "execution_count": 49,
     "metadata": {},
     "output_type": "execute_result"
    }
   ],
   "source": [
    "df"
   ]
  },
  {
   "cell_type": "code",
   "execution_count": null,
   "metadata": {},
   "outputs": [],
   "source": []
  }
 ],
 "metadata": {
  "kernelspec": {
   "display_name": "Python 3",
   "language": "python",
   "name": "python3"
  },
  "language_info": {
   "codemirror_mode": {
    "name": "ipython",
    "version": 3
   },
   "file_extension": ".py",
   "mimetype": "text/x-python",
   "name": "python",
   "nbconvert_exporter": "python",
   "pygments_lexer": "ipython3",
   "version": "3.8.5"
  }
 },
 "nbformat": 4,
 "nbformat_minor": 4
}
